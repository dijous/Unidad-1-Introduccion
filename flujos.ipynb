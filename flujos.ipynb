{
 "cells": [
  {
   "cell_type": "markdown",
   "metadata": {},
   "source": [
    "### Archivos en C# (Flujos)\n",
    "Para grabar o leer datos de un archivo es necesario establecer un canalde comunicació conocido como flujo (stream). Este canal es un mensajero entre la aplicación y el archivo ubicado en un dispositivo de almacenamiento secundario (disco duro, memoria USB, CD, etc.)\n",
    "\n",
    "#### Leer o escribir datos en un archivo\n",
    "\n",
    "Al establecer el flujo como canal de comunicación con el archivo se define la forma de operarlo y por tanto las opercaciones que se pueden realizar con él. En términos generales, las actividades a realizar con los archivos son:\n",
    "\n",
    "1. Abrir: se establece el flujo según las operaciones a realizar en el archivo (modo de lectura o escritura).\n",
    "2. Utilización del archivo: se realizan las operaciones para leer o escribir datos en el archivo (según lo permita el modo de operación del flujo).\n",
    "3. Cerrar el archivo: una vez se ejecutan las operaciones deseadas en el archivo, éste debe cerrarse para mantener la seguridad e integridad de los datos almacenados.\n",
    "\n",
    "#### Apertura de archivos\n",
    "Antes de leer o escribir datos en un archivo es necesario abrirlo. Al abrir el archivo se establece un flujo entre la aplicación y el sistema operativo que determina cómo acceder al archivo. Para definir el flujo es necesario que la aplicación le proporcione al sistema operativo el nombre completo del archivo y la intención de uso (leer o escribir datos). El flujo es el que administra todas las operaciones realizadas en él. Cada archivo abierto requiere de un flujo para poder grabar o leer datos en  él.\n",
    "\n",
    "#### Pasos para grabar datos en un archivo\n",
    "Antes de realizar cualquier actividad en un archivo, primero debe abrirse en el modo adecuado según la operación que se desee ejecutar. Para grabar datos nuevos en un archivo deben seguirse los siguientes pasos:\n",
    "\n",
    "1. Abrir el archivo: al abrir el archivo para grabar datos en él, se establece un flujo que permite escribirlo. Si el archivo no existe, entonces debe crearse.\n",
    "2. Escribir: grabar el dato en el archivo a través de su flujo.\n",
    "3. Cerrar: después de realizar la escritura en el archivo, éste debe cerrarse para garantizar el éxito de la operación.\n",
    "\n",
    "#### Pasos para leer datos de un archivo\n",
    "Para leer los datos almacenados en un archivo deben de seguirse estos pasos:\n",
    "\n",
    "1. Abrir el archivo: al abrir un archivo para leer datos en él, se establece un flujo que permite su lectura. Al intentar esta operación, se debe asegurar la existencia del archivo.\n",
    "2. Escribir: grabar el dato a través de su flujo.\n",
    "3. Cerra: después de realizar la escritura en el archivo, éste debe cerrarse para garantizar el éxito de la operación.\n",
    "\n",
    "#### Desarrollo de una aplicación en C# con archivos\n",
    "Cuando se desarrolla una aplicación que maneje archivos es necesario incluir el espacio de nombres ```System.IO```, el cuál contiene las clases más utilizadas de este espacio de nombres.\n",
    "\n",
    "| Clase | Descripción\n",
    "| ----- | ----------- |\n",
    "| **FileStream** | Permite crear objetos para leer o escribir datos en archivos. Para ello, es necesario definir el nombre completo del archivo (incluyendo la ruta de su ubicación). |\n",
    "| **StreamWriter** | Permite crear objetos que implementan un sistema de escritura de datos basado en secuencia de caracteres. |\n",
    "| **StreamReader** | Permite crear objetos que implementan un  sistema de lectura de datos basado en secuencia de caracteres.  |\n",
    "| **File** | Esta clase contiene métodos estáticos para manipular archivos, como crearlos, copiarlos, eliminarlos, moverlos o detectar su existencia. |\n",
    "\n",
    "#### La clase FileStream\n",
    "Esta clase permite crear objetos con un flujo de bytes de lectura y escritura en un archivo, esto es, abrir un archivo ( a través de su flujo) para leer o grabar datos en él. Se trata de una clase derivada de la clase ```Stream``` que hereda sus métodos y además tiene varios constructores sobrecargados que definen su sintaxis, tales como:\n",
    "\n",
    "* ```FileStream(string nombre_del_archivo, FileMode modo_de_apertura);```\n",
    "* ```FileStream(string nombre_del_archivo, FileMode modo_de_apertura, FileAcces modo_de_acceso);```\n",
    "\n",
    "| FileMode | Uso |\n",
    "| ------------ | ------- |\n",
    "| **CreateNew** | Crea un nuevo archivo. Si existe, entonces se produce una excepción del tipo ```IOException```. \n",
    "| **Truncate** | Abre un archivo existente y elimina todo su contenido.\n",
    "| **Create** | Crea un nuevo archivo. Si el archivo existe, entonces elimina su contenido. De lo contrario crea un nuevo archivo.\n",
    "| **Open** | Abre un archivo. Si el archivo no existe entonces se produce una excepción del tipo ```FileNotFoundException```.\n",
    "| **OpenOrCreate** | Abre un archivo si existe. Si no, entonces crea un archivo nuevo. \n",
    "| **Append** | Abre un archivo para agregar datos al final del mismo. Si el archivo no existe, entonces lo crea.\n",
    "\n",
    "El modo de acceso de un archivo determina las operaciones que se desean realizar en él. El modo de acceso de un archivo es un enumerado de tipo ```FileAccess```.\n",
    "\n",
    "| FileAccess | Uso |\n",
    "| -------------- | ------- |\n",
    "| **Read** | Establece un flujo de sólo lectura en un archivo. |\n",
    "| **Write** | Establece un flujo de sólo escritura en un archivo. |\n",
    "| **ReadWriter** | Establece un flujo tanto de lectura como de escritura en un archivo. |\n",
    "\n",
    "#### La clase StreamWriter\n",
    "Esta clase permite crear objetos con un flujo de escritura de caracteres en un archivo. Se trata de un clase derivada de la clase ```TextWirter```que hereda sus métodos y además tiene varios constructores sobrecargados que definen su sintaxis:\n",
    "\n",
    "* ```StreamWriter(string nombre_del_archivo);```\n",
    "* ```StreamWriter(Stream flujo);```\n",
    "\n",
    "Sus métodos:\n",
    "\n",
    "* ``` Write();```\n",
    "* ```WriteLine();```\n",
    "* ```Flush();```\n",
    "\n",
    "#### La clase File\n",
    "Se utiliza esta clase cuando se desea manipular archivos de ubicación de los mismos desde una aplicación. Esta clase contienen métodos estáticos que pueden ejecutarse sin necesidad de crear objetos a partir de ellas.\n",
    "\n",
    "La clase ```File``` proporciona métodos estáticos para crear, copiar, eliminar, modificar y abrir archivos, y contribuye a la creación de objetos de la clase ```FileStream```.\n",
    "\n",
    "| Método | Uso |\n",
    "| ------ | --- |\n",
    "| **Copy** | Copia un archivo en otro. |\n",
    "| **Delete** | Elimina un archivo existente. | \n",
    "| **Exists** | Detecta si un archivo existe. |\n",
    "| **Move** | Mueve un archivo a una nueva ubicación en otro directorio. |\n",
    "\n",
    "```CS\n",
    "if (File.Exists(nombre_del_archivo)) \n",
    "{\n",
    "   ...\n",
    "}\n",
    "```\n",
    "\n",
    "#### Cierre de archivos\n",
    "Una vez que se realizan las operaciones necesarias con un archivo (lectura o escritura), éste debe cerrarse para mantener la integridad y seguridad de los datos almacenados. Al cerrar el archivo también se vacía el buffer de salida, con lo que se asegura que su contenido se almacene de manera permanente en el archivo. Esta operación también debe realizarse a través del flujo que controla el archivo y se logra invocando el método ```Close``` \n",
    "\n",
    "```CS\n",
    "if (flujo != null)\n",
    "    flujo.Close();\n",
    "``` "
   ]
  },
  {
   "cell_type": "markdown",
   "metadata": {},
   "source": [
    "#### Ejemplo"
   ]
  },
  {
   "cell_type": "code",
   "execution_count": null,
   "metadata": {
    "dotnet_interactive": {
     "language": "csharp"
    },
    "vscode": {
     "languageId": "dotnet-interactive.csharp"
    }
   },
   "outputs": [],
   "source": [
    "using System.IO;\n",
    "\n",
    "// Declaración de un flujo mediante la clase FileStream\n",
    "FileStream flujo = null;\n",
    "\n",
    "// Declaración de un flujo de sólo escritura mediante la clase StreamWriter\n",
    "StreamWriter flujoEscritura = null;\n",
    "\n",
    "// Declaración de una cadena para el nombre del archivo\n",
    "string nombreArchivo = \"ruta_y_nombre_del_archivo\";"
   ]
  },
  {
   "cell_type": "code",
   "execution_count": null,
   "metadata": {
    "dotnet_interactive": {
     "language": "csharp"
    },
    "vscode": {
     "languageId": "dotnet-interactive.csharp"
    }
   },
   "outputs": [],
   "source": [
    "// Vefifica si el archivo existe\n",
    "if (File.Exists(nombreArchivo))\n",
    "{\n",
    "    // Abre el archivo en modo agregar\n",
    "    flujo = new FileStream(nombreArchivo, FileMode.Append);\n",
    "\n",
    "    // Establece el flujo de sólo escritura con el archivo abierto\n",
    "    flujoEscritura = new StreamWriter(flujo);\n",
    "}\n",
    "else\n",
    "    // Crea el archivo\n",
    "    flujoEscritura = new StreamWriter(nombreArchivo);"
   ]
  },
  {
   "cell_type": "code",
   "execution_count": null,
   "metadata": {
    "dotnet_interactive": {
     "language": "csharp"
    },
    "vscode": {
     "languageId": "dotnet-interactive.csharp"
    }
   },
   "outputs": [],
   "source": [
    "Console.WriteLine(\"Este es un ejemplo de apertura y escritura de un archivo\");\n",
    "\n",
    "// Graba la linea de texto en el archivo a través de su flujo\n",
    "flujoEscritura.WriteLine(\"Esta es una linea de texto escrita en el archivo\");"
   ]
  },
  {
   "cell_type": "code",
   "execution_count": null,
   "metadata": {
    "dotnet_interactive": {
     "language": "csharp"
    },
    "vscode": {
     "languageId": "dotnet-interactive.csharp"
    }
   },
   "outputs": [],
   "source": [
    "// Cierra el flujo\n",
    "if (flujoEscritura != null)\n",
    "    flujoEscritura.Close();\n",
    "\n",
    "// Cierra el archivo\n",
    "if (flujo != null)\n",
    "    flujo.Close();\n"
   ]
  }
 ],
 "metadata": {
  "kernelspec": {
   "display_name": ".NET (C#)",
   "language": "C#",
   "name": ".net-csharp"
  },
  "language_info": {
   "name": "C#"
  }
 },
 "nbformat": 4,
 "nbformat_minor": 2
}
